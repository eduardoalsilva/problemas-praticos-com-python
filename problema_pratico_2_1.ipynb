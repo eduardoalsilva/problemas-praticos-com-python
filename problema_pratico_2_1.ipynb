{
  "nbformat": 4,
  "nbformat_minor": 0,
  "metadata": {
    "colab": {
      "provenance": [],
      "authorship_tag": "ABX9TyOo4bcLmYHEfsgcZDCvo2HT",
      "include_colab_link": true
    },
    "kernelspec": {
      "name": "python3",
      "display_name": "Python 3"
    },
    "language_info": {
      "name": "python"
    }
  },
  "cells": [
    {
      "cell_type": "markdown",
      "metadata": {
        "id": "view-in-github",
        "colab_type": "text"
      },
      "source": [
        "<a href=\"https://colab.research.google.com/github/eduardoalsilva/problemas-praticos-com-python/blob/main/problema_pratico_2_1.ipynb\" target=\"_parent\"><img src=\"https://colab.research.google.com/assets/colab-badge.svg\" alt=\"Open In Colab\"/></a>"
      ]
    },
    {
      "cell_type": "markdown",
      "source": [
        "# Escreva as expressões algébricas para os seguintes comandos:"
      ],
      "metadata": {
        "id": "CFTXHPPY2zLP"
      }
    },
    {
      "cell_type": "markdown",
      "source": [
        "## a) A soma dos 5 primeiros inteiros positivos"
      ],
      "metadata": {
        "id": "XuyS0-vD26Yy"
      }
    },
    {
      "cell_type": "code",
      "execution_count": 20,
      "metadata": {
        "colab": {
          "base_uri": "https://localhost:8080/"
        },
        "id": "18jZliw12T4e",
        "outputId": "1162d63c-fdd3-47bd-f1b3-f51f8c24a5ec"
      },
      "outputs": [
        {
          "output_type": "stream",
          "name": "stdout",
          "text": [
            "15\n"
          ]
        }
      ],
      "source": [
        "soma1 = 0\n",
        "for i in range(1,6):\n",
        "  soma1 += i\n",
        "  \n",
        "print(soma1)"
      ]
    },
    {
      "cell_type": "code",
      "source": [
        "def somador(n):\n",
        "  soma = 0\n",
        "  for i in range(1,n+1):\n",
        "    soma += i\n",
        "  return soma\n",
        "\n",
        "print(somador(5))"
      ],
      "metadata": {
        "colab": {
          "base_uri": "https://localhost:8080/"
        },
        "id": "dd77B9Fq3NKH",
        "outputId": "60a8ecf3-e0bb-430f-a453-9357f4b80529"
      },
      "execution_count": 21,
      "outputs": [
        {
          "output_type": "stream",
          "name": "stdout",
          "text": [
            "15\n"
          ]
        }
      ]
    },
    {
      "cell_type": "markdown",
      "source": [
        "## b) A idade média de Sara (23), Mark (19) e Fátima (31)"
      ],
      "metadata": {
        "id": "8NxiuHUD7VU7"
      }
    },
    {
      "cell_type": "code",
      "source": [
        "mean = (23 + 19 + 31) / 3\n",
        "mean"
      ],
      "metadata": {
        "colab": {
          "base_uri": "https://localhost:8080/"
        },
        "id": "j0pGZ8I26gqT",
        "outputId": "080deb48-b5ee-46f7-ce64-408ee1d4440d"
      },
      "execution_count": 33,
      "outputs": [
        {
          "output_type": "execute_result",
          "data": {
            "text/plain": [
              "24.333333333333332"
            ]
          },
          "metadata": {},
          "execution_count": 33
        }
      ]
    },
    {
      "cell_type": "markdown",
      "source": [
        "## c) O número de vezes que 73 cabe em 403"
      ],
      "metadata": {
        "id": "0ZFQNj9v94Na"
      }
    },
    {
      "cell_type": "code",
      "source": [
        "403 // 73"
      ],
      "metadata": {
        "colab": {
          "base_uri": "https://localhost:8080/"
        },
        "id": "zDwtUJmE7nup",
        "outputId": "3e5811d2-4809-423a-eaf6-6bf99b77dc1f"
      },
      "execution_count": 34,
      "outputs": [
        {
          "output_type": "execute_result",
          "data": {
            "text/plain": [
              "5"
            ]
          },
          "metadata": {},
          "execution_count": 34
        }
      ]
    },
    {
      "cell_type": "markdown",
      "source": [
        "## d) O resto de 403 dividido por 73"
      ],
      "metadata": {
        "id": "dHDfgBC7-FGN"
      }
    },
    {
      "cell_type": "code",
      "source": [
        "403 % 73"
      ],
      "metadata": {
        "colab": {
          "base_uri": "https://localhost:8080/"
        },
        "id": "KOTEeXvJ-AQl",
        "outputId": "550d2c89-3913-4948-bbe1-bb16f1b6b767"
      },
      "execution_count": 35,
      "outputs": [
        {
          "output_type": "execute_result",
          "data": {
            "text/plain": [
              "38"
            ]
          },
          "metadata": {},
          "execution_count": 35
        }
      ]
    },
    {
      "cell_type": "markdown",
      "source": [
        "## e) 2 elevado a 10"
      ],
      "metadata": {
        "id": "rA3xDgo_--Ml"
      }
    },
    {
      "cell_type": "code",
      "source": [
        "2 ** 10"
      ],
      "metadata": {
        "colab": {
          "base_uri": "https://localhost:8080/"
        },
        "id": "-XKbSJRe-R_r",
        "outputId": "727a38e7-0e89-4c75-c6d3-25ba40d31259"
      },
      "execution_count": 36,
      "outputs": [
        {
          "output_type": "execute_result",
          "data": {
            "text/plain": [
              "1024"
            ]
          },
          "metadata": {},
          "execution_count": 36
        }
      ]
    },
    {
      "cell_type": "markdown",
      "source": [
        "## f) O valor absoluto da distância entre a altura de Sara (54 polegadas) e a altura de Mark (57 polegadas)"
      ],
      "metadata": {
        "id": "DEUaJO2Z_Rvt"
      }
    },
    {
      "cell_type": "code",
      "source": [
        "abs(54 - 57)"
      ],
      "metadata": {
        "colab": {
          "base_uri": "https://localhost:8080/"
        },
        "id": "aySRWMdQ_DMW",
        "outputId": "033b6704-3089-49d1-bc8b-4a0258ea4d5c"
      },
      "execution_count": 37,
      "outputs": [
        {
          "output_type": "execute_result",
          "data": {
            "text/plain": [
              "3"
            ]
          },
          "metadata": {},
          "execution_count": 37
        }
      ]
    },
    {
      "cell_type": "markdown",
      "source": [
        "## g) O menor preço entre os seguintes valores: R\\$ 34.99, R\\$ 29.95 e R\\$ 31.50"
      ],
      "metadata": {
        "id": "cLWVPZMV_ji7"
      }
    },
    {
      "cell_type": "code",
      "source": [
        "min(34.99, 29.95, 31.5)"
      ],
      "metadata": {
        "colab": {
          "base_uri": "https://localhost:8080/"
        },
        "id": "RIyLoi4r_h0W",
        "outputId": "e24d61ce-f655-44ca-dd13-e47b99f675be"
      },
      "execution_count": 38,
      "outputs": [
        {
          "output_type": "execute_result",
          "data": {
            "text/plain": [
              "29.95"
            ]
          },
          "metadata": {},
          "execution_count": 38
        }
      ]
    }
  ]
}