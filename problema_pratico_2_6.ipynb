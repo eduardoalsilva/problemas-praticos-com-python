{
  "nbformat": 4,
  "nbformat_minor": 0,
  "metadata": {
    "colab": {
      "provenance": [],
      "authorship_tag": "ABX9TyP4ucNUcrdFnjqWvf9h9gQh",
      "include_colab_link": true
    },
    "kernelspec": {
      "name": "python3",
      "display_name": "Python 3"
    },
    "language_info": {
      "name": "python"
    }
  },
  "cells": [
    {
      "cell_type": "markdown",
      "metadata": {
        "id": "view-in-github",
        "colab_type": "text"
      },
      "source": [
        "<a href=\"https://colab.research.google.com/github/eduardoalsilva/problemas-praticos-com-python/blob/main/problema_pratico_2_6.ipynb\" target=\"_parent\"><img src=\"https://colab.research.google.com/assets/colab-badge.svg\" alt=\"Open In Colab\"/></a>"
      ]
    },
    {
      "cell_type": "markdown",
      "source": [
        "# Executando a atribuição:"
      ],
      "metadata": {
        "id": "EvzRItmkG011"
      }
    },
    {
      "cell_type": "code",
      "source": [
        "palavras = ['taco', 'bola', 'celeiro', 'cesta', 'peteca']"
      ],
      "metadata": {
        "id": "H2JgWSWQHAs3"
      },
      "execution_count": 1,
      "outputs": []
    },
    {
      "cell_type": "markdown",
      "source": [
        "# Apresente o primeiro item e o último item na ordem alfabética"
      ],
      "metadata": {
        "id": "J1YvfjHLHGEU"
      }
    },
    {
      "cell_type": "code",
      "execution_count": 4,
      "metadata": {
        "colab": {
          "base_uri": "https://localhost:8080/",
          "height": 35
        },
        "id": "xRuP6y4HGM3n",
        "outputId": "322d69f9-ae37-4727-e407-59ce28cb13eb"
      },
      "outputs": [
        {
          "output_type": "execute_result",
          "data": {
            "text/plain": [
              "'bola'"
            ],
            "application/vnd.google.colaboratory.intrinsic+json": {
              "type": "string"
            }
          },
          "metadata": {},
          "execution_count": 4
        }
      ],
      "source": [
        "min(palavras)"
      ]
    },
    {
      "cell_type": "code",
      "source": [
        "max(palavras)"
      ],
      "metadata": {
        "colab": {
          "base_uri": "https://localhost:8080/",
          "height": 35
        },
        "id": "pfICNZppHVBG",
        "outputId": "39ff937a-590d-4e89-ee6b-f99140897b9d"
      },
      "execution_count": 5,
      "outputs": [
        {
          "output_type": "execute_result",
          "data": {
            "text/plain": [
              "'taco'"
            ],
            "application/vnd.google.colaboratory.intrinsic+json": {
              "type": "string"
            }
          },
          "metadata": {},
          "execution_count": 5
        }
      ]
    }
  ]
}