{
  "nbformat": 4,
  "nbformat_minor": 0,
  "metadata": {
    "colab": {
      "provenance": [],
      "authorship_tag": "ABX9TyMNfSuRjIGoEcVb58c5Mnoj",
      "include_colab_link": true
    },
    "kernelspec": {
      "name": "python3",
      "display_name": "Python 3"
    },
    "language_info": {
      "name": "python"
    }
  },
  "cells": [
    {
      "cell_type": "markdown",
      "metadata": {
        "id": "view-in-github",
        "colab_type": "text"
      },
      "source": [
        "<a href=\"https://colab.research.google.com/github/eduardoalsilva/problemas-praticos-com-python/blob/main/problema_pratico_2_2.ipynb\" target=\"_parent\"><img src=\"https://colab.research.google.com/assets/colab-badge.svg\" alt=\"Open In Colab\"/></a>"
      ]
    },
    {
      "cell_type": "markdown",
      "source": [
        "# Problema prático 2.2: expressões booleanas em Python"
      ],
      "metadata": {
        "id": "DCU73EpfEVA-"
      }
    },
    {
      "cell_type": "markdown",
      "source": [
        "## a) A soma de 2 e 2 é menor que 4"
      ],
      "metadata": {
        "id": "3Q2bBbtHEezd"
      }
    },
    {
      "cell_type": "code",
      "execution_count": 1,
      "metadata": {
        "colab": {
          "base_uri": "https://localhost:8080/"
        },
        "id": "2MIVJpNxEC2W",
        "outputId": "1981c244-9233-40e2-ba32-b3930579ab89"
      },
      "outputs": [
        {
          "output_type": "execute_result",
          "data": {
            "text/plain": [
              "False"
            ]
          },
          "metadata": {},
          "execution_count": 1
        }
      ],
      "source": [
        "2 + 2 < 4"
      ]
    },
    {
      "cell_type": "markdown",
      "source": [
        "## b) O valor de 7 // 3 é igual a 1 + 1"
      ],
      "metadata": {
        "id": "uKjBCDx2Ejoj"
      }
    },
    {
      "cell_type": "code",
      "source": [
        "7 // 3 == 1 + 1"
      ],
      "metadata": {
        "colab": {
          "base_uri": "https://localhost:8080/"
        },
        "id": "GcOrJ1zvF2TM",
        "outputId": "911efb9c-23de-4f44-b017-5356cc1982c9"
      },
      "execution_count": 2,
      "outputs": [
        {
          "output_type": "execute_result",
          "data": {
            "text/plain": [
              "True"
            ]
          },
          "metadata": {},
          "execution_count": 2
        }
      ]
    },
    {
      "cell_type": "markdown",
      "source": [
        "## c) A soma de 3 ao quadrado e 4 ao quadrado é igual a 25"
      ],
      "metadata": {
        "id": "Dr-4oRpEErBY"
      }
    },
    {
      "cell_type": "code",
      "source": [
        "3**2 + 4**2 == 25"
      ],
      "metadata": {
        "colab": {
          "base_uri": "https://localhost:8080/"
        },
        "id": "IvtbSnRGF69g",
        "outputId": "78168aa9-70d1-45a2-d911-0ff50011a246"
      },
      "execution_count": 3,
      "outputs": [
        {
          "output_type": "execute_result",
          "data": {
            "text/plain": [
              "True"
            ]
          },
          "metadata": {},
          "execution_count": 3
        }
      ]
    },
    {
      "cell_type": "markdown",
      "source": [
        "## d) A soma de 2, 4 e 6 é maior que 12"
      ],
      "metadata": {
        "id": "inapTWi4Exxt"
      }
    },
    {
      "cell_type": "code",
      "source": [
        "2 + 4 + 6 == 12"
      ],
      "metadata": {
        "colab": {
          "base_uri": "https://localhost:8080/"
        },
        "id": "Qfdgd1JxF_JZ",
        "outputId": "dc87f658-1550-4428-ad95-1ea0ef494891"
      },
      "execution_count": 4,
      "outputs": [
        {
          "output_type": "execute_result",
          "data": {
            "text/plain": [
              "True"
            ]
          },
          "metadata": {},
          "execution_count": 4
        }
      ]
    },
    {
      "cell_type": "markdown",
      "source": [
        "## e) 1387 é divisível por 19"
      ],
      "metadata": {
        "id": "rJkKHyk5E2S3"
      }
    },
    {
      "cell_type": "code",
      "source": [
        "1387 % 19 == 0"
      ],
      "metadata": {
        "colab": {
          "base_uri": "https://localhost:8080/"
        },
        "id": "S0j4XEKMGCv3",
        "outputId": "3471419b-936e-4d6c-b53c-9e48245e3759"
      },
      "execution_count": 5,
      "outputs": [
        {
          "output_type": "execute_result",
          "data": {
            "text/plain": [
              "True"
            ]
          },
          "metadata": {},
          "execution_count": 5
        }
      ]
    },
    {
      "cell_type": "markdown",
      "source": [
        "## f) 31 é par"
      ],
      "metadata": {
        "id": "thMKHR9aE6tE"
      }
    },
    {
      "cell_type": "code",
      "source": [
        "31 % 2 == 0"
      ],
      "metadata": {
        "colab": {
          "base_uri": "https://localhost:8080/"
        },
        "id": "Pc2hLQRVGGyS",
        "outputId": "ea71245d-ab07-4f89-ec43-aeb8b53ad8b8"
      },
      "execution_count": 6,
      "outputs": [
        {
          "output_type": "execute_result",
          "data": {
            "text/plain": [
              "False"
            ]
          },
          "metadata": {},
          "execution_count": 6
        }
      ]
    },
    {
      "cell_type": "markdown",
      "source": [
        "## g) O menor preço entre R\\$ 34.99, R\\$ 29.95 e R\\$ 31.50 é menor que R\\$ 30.00"
      ],
      "metadata": {
        "id": "WFXtImHJE_Nz"
      }
    },
    {
      "cell_type": "code",
      "source": [
        "min(34.99, 29.95, 31.50) < 30.00"
      ],
      "metadata": {
        "colab": {
          "base_uri": "https://localhost:8080/"
        },
        "id": "lnUodd9GGKq9",
        "outputId": "69529aaa-e44d-4c55-8aa3-b46cde7ada19"
      },
      "execution_count": 8,
      "outputs": [
        {
          "output_type": "execute_result",
          "data": {
            "text/plain": [
              "True"
            ]
          },
          "metadata": {},
          "execution_count": 8
        }
      ]
    },
    {
      "cell_type": "code",
      "source": [],
      "metadata": {
        "id": "4z18VsNcGTC7"
      },
      "execution_count": null,
      "outputs": []
    }
  ]
}