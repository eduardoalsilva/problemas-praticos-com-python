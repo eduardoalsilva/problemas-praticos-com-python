{
  "nbformat": 4,
  "nbformat_minor": 0,
  "metadata": {
    "colab": {
      "provenance": [],
      "authorship_tag": "ABX9TyMzuD8Q25L3FRF4y1EMTfLc",
      "include_colab_link": true
    },
    "kernelspec": {
      "name": "python3",
      "display_name": "Python 3"
    },
    "language_info": {
      "name": "python"
    }
  },
  "cells": [
    {
      "cell_type": "markdown",
      "metadata": {
        "id": "view-in-github",
        "colab_type": "text"
      },
      "source": [
        "<a href=\"https://colab.research.google.com/github/eduardoalsilva/problemas-praticos-com-python/blob/main/problema_pratico_2_3.ipynb\" target=\"_parent\"><img src=\"https://colab.research.google.com/assets/colab-badge.svg\" alt=\"Open In Colab\"/></a>"
      ]
    },
    {
      "cell_type": "markdown",
      "source": [
        "# Escreva as instruções Python a seguir:"
      ],
      "metadata": {
        "id": "NJ5z0VSU5xyq"
      }
    },
    {
      "cell_type": "markdown",
      "source": [
        "## a) Atribua o valor inteiro 3 à variável a."
      ],
      "metadata": {
        "id": "Fz38auTP55-7"
      }
    },
    {
      "cell_type": "code",
      "source": [
        "a = 3"
      ],
      "metadata": {
        "id": "_e9saCxo6UGP"
      },
      "execution_count": 1,
      "outputs": []
    },
    {
      "cell_type": "markdown",
      "source": [
        "## b) Atribua 4 à variavel b"
      ],
      "metadata": {
        "id": "xSBjeEj45-vS"
      }
    },
    {
      "cell_type": "code",
      "source": [
        "b = 4"
      ],
      "metadata": {
        "id": "iNau-Bvr6b3t"
      },
      "execution_count": 2,
      "outputs": []
    },
    {
      "cell_type": "markdown",
      "source": [
        "## c) Atribua à variável c o valor da expressão a * a + b * b"
      ],
      "metadata": {
        "id": "Z9XSUCST6Inv"
      }
    },
    {
      "cell_type": "code",
      "execution_count": 3,
      "metadata": {
        "id": "e6ZFQLtmGomu"
      },
      "outputs": [],
      "source": [
        "c = a * a + b * b"
      ]
    },
    {
      "cell_type": "code",
      "source": [
        "print(a, \"x\", a, \"+\", b, \"x\", b, \"=\", c)"
      ],
      "metadata": {
        "colab": {
          "base_uri": "https://localhost:8080/"
        },
        "id": "OWFg_JS_6hUv",
        "outputId": "3a48f751-8adb-4717-e12f-950c1b080939"
      },
      "execution_count": 4,
      "outputs": [
        {
          "output_type": "stream",
          "name": "stdout",
          "text": [
            "3 x 3 + 4 x 4 = 25\n"
          ]
        }
      ]
    },
    {
      "cell_type": "code",
      "source": [],
      "metadata": {
        "id": "OGnnb0Wv6v44"
      },
      "execution_count": null,
      "outputs": []
    }
  ]
}