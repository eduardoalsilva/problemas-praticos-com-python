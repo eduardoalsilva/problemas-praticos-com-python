{
  "nbformat": 4,
  "nbformat_minor": 0,
  "metadata": {
    "colab": {
      "provenance": [],
      "authorship_tag": "ABX9TyPnr/I0VJFWFKv9Ihniqpvh",
      "include_colab_link": true
    },
    "kernelspec": {
      "name": "python3",
      "display_name": "Python 3"
    },
    "language_info": {
      "name": "python"
    }
  },
  "cells": [
    {
      "cell_type": "markdown",
      "metadata": {
        "id": "view-in-github",
        "colab_type": "text"
      },
      "source": [
        "<a href=\"https://colab.research.google.com/github/eduardoalsilva/problemas-praticos-com-python/blob/main/problema_pratico_2_4.ipynb\" target=\"_parent\"><img src=\"https://colab.research.google.com/assets/colab-badge.svg\" alt=\"Open In Colab\"/></a>"
      ]
    },
    {
      "cell_type": "markdown",
      "source": [
        "# Escreva expressões Python para strings"
      ],
      "metadata": {
        "id": "pwI9AKYJ-et_"
      }
    },
    {
      "cell_type": "code",
      "source": [
        "s1 = 'ant'\n",
        "s2 = 'bat'\n",
        "s3 = 'cod'"
      ],
      "metadata": {
        "id": "ee4lrifT_z_5"
      },
      "execution_count": 1,
      "outputs": []
    },
    {
      "cell_type": "markdown",
      "source": [
        "## a) 'ant bat cod'"
      ],
      "metadata": {
        "id": "IsGb3eG0-mE9"
      }
    },
    {
      "cell_type": "code",
      "source": [
        "s1 + \" \" + s2 + \" \" + s3"
      ],
      "metadata": {
        "colab": {
          "base_uri": "https://localhost:8080/",
          "height": 35
        },
        "id": "F1QRDV9x_-Vf",
        "outputId": "c04bfa07-9934-4c27-98c3-59994518c169"
      },
      "execution_count": 7,
      "outputs": [
        {
          "output_type": "execute_result",
          "data": {
            "text/plain": [
              "'ant bat cod'"
            ],
            "application/vnd.google.colaboratory.intrinsic+json": {
              "type": "string"
            }
          },
          "metadata": {},
          "execution_count": 7
        }
      ]
    },
    {
      "cell_type": "markdown",
      "source": [
        "## b) 'ant ant ant ant ant ant ant ant ant ant'"
      ],
      "metadata": {
        "id": "K7EXFNRP-son"
      }
    },
    {
      "cell_type": "code",
      "source": [
        "s1 + ' ' + s1 + ' ' + s1 + ' ' + s1 + ' ' + s1 + ' ' + s1 + ' ' + s1 + ' ' + s1 + ' ' + s1 + ' ' + s1"
      ],
      "metadata": {
        "colab": {
          "base_uri": "https://localhost:8080/",
          "height": 35
        },
        "id": "DHRYaFVsATQd",
        "outputId": "707c0f2b-d328-4a37-893a-fce772c7a641"
      },
      "execution_count": 8,
      "outputs": [
        {
          "output_type": "execute_result",
          "data": {
            "text/plain": [
              "'ant ant ant ant ant ant ant ant ant ant'"
            ],
            "application/vnd.google.colaboratory.intrinsic+json": {
              "type": "string"
            }
          },
          "metadata": {},
          "execution_count": 8
        }
      ]
    },
    {
      "cell_type": "code",
      "source": [
        "(s1 + ' ') * 9 + s1"
      ],
      "metadata": {
        "colab": {
          "base_uri": "https://localhost:8080/",
          "height": 35
        },
        "id": "DwF2XAGGBEGK",
        "outputId": "45d4b610-04f8-4803-ee41-bb89a96f76a7"
      },
      "execution_count": 12,
      "outputs": [
        {
          "output_type": "execute_result",
          "data": {
            "text/plain": [
              "'ant ant ant ant ant ant ant ant ant ant'"
            ],
            "application/vnd.google.colaboratory.intrinsic+json": {
              "type": "string"
            }
          },
          "metadata": {},
          "execution_count": 12
        }
      ]
    },
    {
      "cell_type": "markdown",
      "source": [
        "## c) 'ant bat bat cod cod cod'"
      ],
      "metadata": {
        "id": "oeJP8X22-zMq"
      }
    },
    {
      "cell_type": "code",
      "source": [
        "s1 + ' ' + 2 * (s2 + ' ') + 2 * (s3 + ' ') + s3"
      ],
      "metadata": {
        "colab": {
          "base_uri": "https://localhost:8080/",
          "height": 35
        },
        "id": "4j9iTGxkA-xm",
        "outputId": "5bdce253-48e8-48e4-c61d-f69f6688521b"
      },
      "execution_count": 13,
      "outputs": [
        {
          "output_type": "execute_result",
          "data": {
            "text/plain": [
              "'ant bat bat cod cod cod'"
            ],
            "application/vnd.google.colaboratory.intrinsic+json": {
              "type": "string"
            }
          },
          "metadata": {},
          "execution_count": 13
        }
      ]
    },
    {
      "cell_type": "markdown",
      "source": [
        "## d) 'ant bat ant bat ant bat ant bat ant bat ant bat ant bat'"
      ],
      "metadata": {
        "id": "PMGWvjuk-4i9"
      }
    },
    {
      "cell_type": "code",
      "source": [
        "(s1 + ' ' + s2 + ' ') * 6 + s1 + ' ' + s2"
      ],
      "metadata": {
        "colab": {
          "base_uri": "https://localhost:8080/",
          "height": 35
        },
        "id": "XBDwwc66Bucv",
        "outputId": "74f70f17-dcf4-4e19-fe11-baa9cd048c7e"
      },
      "execution_count": 14,
      "outputs": [
        {
          "output_type": "execute_result",
          "data": {
            "text/plain": [
              "'ant bat ant bat ant bat ant bat ant bat ant bat ant bat'"
            ],
            "application/vnd.google.colaboratory.intrinsic+json": {
              "type": "string"
            }
          },
          "metadata": {},
          "execution_count": 14
        }
      ]
    },
    {
      "cell_type": "markdown",
      "source": [
        "## e) 'batbatcod batbatcod batbatcod batbatcod batbatcod'"
      ],
      "metadata": {
        "id": "6dl_GIxU_Arf"
      }
    },
    {
      "cell_type": "code",
      "execution_count": 18,
      "metadata": {
        "colab": {
          "base_uri": "https://localhost:8080/",
          "height": 35
        },
        "id": "YUmEk5jx5Gxd",
        "outputId": "dcefbbbc-c531-4c1e-a789-89d95cc8358d"
      },
      "outputs": [
        {
          "output_type": "execute_result",
          "data": {
            "text/plain": [
              "'batbatcod batbatcod batbatcod batbatcod batbatcod'"
            ],
            "application/vnd.google.colaboratory.intrinsic+json": {
              "type": "string"
            }
          },
          "metadata": {},
          "execution_count": 18
        }
      ],
      "source": [
        "(2* s2 + s3 + ' ') * 4 + 2 * s2 + s3"
      ]
    },
    {
      "cell_type": "code",
      "source": [],
      "metadata": {
        "id": "8O77C0V0CJUN"
      },
      "execution_count": null,
      "outputs": []
    }
  ]
}