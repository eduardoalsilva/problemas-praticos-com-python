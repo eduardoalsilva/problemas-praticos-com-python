{
  "nbformat": 4,
  "nbformat_minor": 0,
  "metadata": {
    "colab": {
      "provenance": [],
      "authorship_tag": "ABX9TyN7Aqzuam/yAf5LFMMvXEqE",
      "include_colab_link": true
    },
    "kernelspec": {
      "name": "python3",
      "display_name": "Python 3"
    },
    "language_info": {
      "name": "python"
    }
  },
  "cells": [
    {
      "cell_type": "markdown",
      "metadata": {
        "id": "view-in-github",
        "colab_type": "text"
      },
      "source": [
        "<a href=\"https://colab.research.google.com/github/eduardoalsilva/problemas-praticos-com-python/blob/main/problema_pratico_2_7.ipynb\" target=\"_parent\"><img src=\"https://colab.research.google.com/assets/colab-badge.svg\" alt=\"Open In Colab\"/></a>"
      ]
    },
    {
      "cell_type": "markdown",
      "source": [
        "# Dada a lista de notas de trabalho de alunos"
      ],
      "metadata": {
        "id": "hsMCz3ejJpzH"
      }
    },
    {
      "cell_type": "code",
      "execution_count": 1,
      "metadata": {
        "id": "QTc8SOGKJn5q"
      },
      "outputs": [],
      "source": [
        "notas = [9, 7, 7, 10, 3, 9, 6, 6, 2]"
      ]
    },
    {
      "cell_type": "markdown",
      "source": [
        "## a) Quantas notas 7 foram tiradas?"
      ],
      "metadata": {
        "id": "A_6_93aVJod8"
      }
    },
    {
      "cell_type": "code",
      "source": [
        "notas.count(7)"
      ],
      "metadata": {
        "colab": {
          "base_uri": "https://localhost:8080/"
        },
        "id": "_3TtAr33KU-h",
        "outputId": "8c528394-6805-4cd4-bcef-e8bb7170db80"
      },
      "execution_count": 2,
      "outputs": [
        {
          "output_type": "execute_result",
          "data": {
            "text/plain": [
              "2"
            ]
          },
          "metadata": {},
          "execution_count": 2
        }
      ]
    },
    {
      "cell_type": "markdown",
      "source": [
        "## b) Mude a ultima nota para 4"
      ],
      "metadata": {
        "id": "F5LfmqSRJ-MD"
      }
    },
    {
      "cell_type": "code",
      "source": [
        "notas[-1] = 4\n",
        "notas[-1]"
      ],
      "metadata": {
        "colab": {
          "base_uri": "https://localhost:8080/"
        },
        "id": "VoQiMsT-KdEY",
        "outputId": "1f1f92b6-9b09-4b8a-be3b-e29eb09b694e"
      },
      "execution_count": 4,
      "outputs": [
        {
          "output_type": "execute_result",
          "data": {
            "text/plain": [
              "4"
            ]
          },
          "metadata": {},
          "execution_count": 4
        }
      ]
    },
    {
      "cell_type": "markdown",
      "source": [
        "## c) Qual a nota mais alta?"
      ],
      "metadata": {
        "id": "dYBxmabtKCY7"
      }
    },
    {
      "cell_type": "code",
      "source": [
        "max(notas)"
      ],
      "metadata": {
        "colab": {
          "base_uri": "https://localhost:8080/"
        },
        "id": "pXcD7I8CK2tD",
        "outputId": "f1788054-69c7-4de1-f0d6-8bb95a2b9026"
      },
      "execution_count": 5,
      "outputs": [
        {
          "output_type": "execute_result",
          "data": {
            "text/plain": [
              "10"
            ]
          },
          "metadata": {},
          "execution_count": 5
        }
      ]
    },
    {
      "cell_type": "markdown",
      "source": [
        "## d) Ordene as notas da lista"
      ],
      "metadata": {
        "id": "AQG0rJxvKGY2"
      }
    },
    {
      "cell_type": "code",
      "source": [
        "notas.sort()\n",
        "notas"
      ],
      "metadata": {
        "colab": {
          "base_uri": "https://localhost:8080/"
        },
        "id": "q0tos7MWK7sl",
        "outputId": "fe913aeb-5630-4f3f-a0dc-3d19647d3545"
      },
      "execution_count": 8,
      "outputs": [
        {
          "output_type": "execute_result",
          "data": {
            "text/plain": [
              "[3, 4, 6, 6, 7, 7, 9, 9, 10]"
            ]
          },
          "metadata": {},
          "execution_count": 8
        }
      ]
    },
    {
      "cell_type": "markdown",
      "source": [
        "## e) Qual a média dos alunos"
      ],
      "metadata": {
        "id": "_aZCGrvwKN0B"
      }
    },
    {
      "cell_type": "code",
      "source": [
        "sum(notas)/len(notas)"
      ],
      "metadata": {
        "colab": {
          "base_uri": "https://localhost:8080/"
        },
        "id": "x-ygKXavLBac",
        "outputId": "4d3d02dd-8e1a-425a-e89f-04ffdcc8e66a"
      },
      "execution_count": 10,
      "outputs": [
        {
          "output_type": "execute_result",
          "data": {
            "text/plain": [
              "6.777777777777778"
            ]
          },
          "metadata": {},
          "execution_count": 10
        }
      ]
    }
  ]
}